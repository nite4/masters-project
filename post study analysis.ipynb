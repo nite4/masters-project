{
 "cells": [
  {
   "cell_type": "code",
   "execution_count": 1,
   "id": "705e4ff4-e2ac-4a63-bb85-7d75a99b98d1",
   "metadata": {},
   "outputs": [],
   "source": [
    "import pandas as pd\n",
    "import numpy as np\n",
    "import seaborn as sns\n",
    "import matplotlib.pyplot as plt\n",
    "import statsmodels.api as sm\n",
    "import statsmodels.stats as ssd"
   ]
  },
  {
   "cell_type": "code",
   "execution_count": 2,
   "id": "cf4ba069-9808-4e3b-bd95-10167113f1f4",
   "metadata": {},
   "outputs": [],
   "source": [
    "columns = ['Date', 'SPX', 'DAX', 'WIG20', 'EURUSD']"
   ]
  },
  {
   "cell_type": "code",
   "execution_count": 3,
   "id": "b19fa420-ba5f-4fa2-bd54-2b518dd7ad49",
   "metadata": {},
   "outputs": [],
   "source": [
    "freq_data = pd.read_csv('value_at_risk_frequentist.csv', header=0, names=columns, index_col='Date', parse_dates=['Date'])\n",
    "bay_data = pd.read_csv('value_at_risk_bayesian.csv', header=0, names=columns, index_col='Date', parse_dates=['Date'])\n",
    "data = pd.read_csv('study_data.csv', header=0, names=columns, index_col='Date', parse_dates=['Date']).iloc[250:]"
   ]
  },
  {
   "cell_type": "code",
   "execution_count": 4,
   "id": "f807a1be-7020-4096-b2d0-cad6d26e8996",
   "metadata": {},
   "outputs": [
    {
     "data": {
      "text/html": [
       "<div>\n",
       "<style scoped>\n",
       "    .dataframe tbody tr th:only-of-type {\n",
       "        vertical-align: middle;\n",
       "    }\n",
       "\n",
       "    .dataframe tbody tr th {\n",
       "        vertical-align: top;\n",
       "    }\n",
       "\n",
       "    .dataframe thead th {\n",
       "        text-align: right;\n",
       "    }\n",
       "</style>\n",
       "<table border=\"1\" class=\"dataframe\">\n",
       "  <thead>\n",
       "    <tr style=\"text-align: right;\">\n",
       "      <th></th>\n",
       "      <th>data_frequentist</th>\n",
       "      <th>data_bayesian</th>\n",
       "      <th>frequentist_bayesian</th>\n",
       "    </tr>\n",
       "  </thead>\n",
       "  <tbody>\n",
       "    <tr>\n",
       "      <th>SPX</th>\n",
       "      <td>0.383228</td>\n",
       "      <td>0.382385</td>\n",
       "      <td>0.999494</td>\n",
       "    </tr>\n",
       "    <tr>\n",
       "      <th>DAX</th>\n",
       "      <td>0.282482</td>\n",
       "      <td>0.282344</td>\n",
       "      <td>0.999489</td>\n",
       "    </tr>\n",
       "    <tr>\n",
       "      <th>WIG20</th>\n",
       "      <td>0.319230</td>\n",
       "      <td>0.318610</td>\n",
       "      <td>0.999601</td>\n",
       "    </tr>\n",
       "    <tr>\n",
       "      <th>EURUSD</th>\n",
       "      <td>0.217296</td>\n",
       "      <td>0.217323</td>\n",
       "      <td>0.994777</td>\n",
       "    </tr>\n",
       "  </tbody>\n",
       "</table>\n",
       "</div>"
      ],
      "text/plain": [
       "        data_frequentist  data_bayesian  frequentist_bayesian\n",
       "SPX             0.383228       0.382385              0.999494\n",
       "DAX             0.282482       0.282344              0.999489\n",
       "WIG20           0.319230       0.318610              0.999601\n",
       "EURUSD          0.217296       0.217323              0.994777"
      ]
     },
     "execution_count": 4,
     "metadata": {},
     "output_type": "execute_result"
    }
   ],
   "source": [
    "#calculate correlations\n",
    "corr1 = data.corrwith(freq_data, axis=0).round(6)\n",
    "corr2 = data.corrwith(bay_data, axis=0).round(6)\n",
    "corr3 = bay_data.corrwith(freq_data, axis=0).round(6)\n",
    "\n",
    "corrs = pd.DataFrame()\n",
    "corrs['data_frequentist'] = corr1\n",
    "corrs['data_bayesian'] = corr2\n",
    "corrs['frequentist_bayesian'] = corr3\n",
    "#print(corrs.to_latex())\n",
    "corrs"
   ]
  },
  {
   "cell_type": "code",
   "execution_count": 5,
   "id": "5a81bb70-9a20-4f97-b9ca-a553d670993a",
   "metadata": {},
   "outputs": [
    {
     "data": {
      "image/png": "[encoded data removed]",
      "text/plain": [
       "<Figure size 432x288 with 1 Axes>"
      ]
     },
     "metadata": {},
     "output_type": "display_data"
    }
   ],
   "source": [
    "sns.set()\n",
    "plt.plot(figsize=(10,10))\n",
    "sns.heatmap(corrs.round(6), annot=True, cbar=False, fmt='.6g', cmap='YlGnBu')\n",
    "plt.title('Correlations Between Observed and Forecast Returns')\n",
    "plt.tight_layout()\n",
    "plt.savefig('forecast_correlations.pdf', bbox_inches='tight')\n",
    "plt.show()"
   ]
  },
  {
   "cell_type": "code",
   "execution_count": 80,
   "id": "20fa2bd4-b54d-4627-bf4f-b4dd35f98b07",
   "metadata": {},
   "outputs": [
    {
     "name": "stdout",
     "output_type": "stream",
     "text": [
      "Number of sign-convergent forecasts:\n",
      " SPX       1185\n",
      "DAX       1189\n",
      "WIG20     1149\n",
      "EURUSD    1137\n",
      "dtype: object\n",
      "Percentage of sign-convergent forecasts:\n",
      " SPX        57.55221\n",
      "DAX       57.746479\n",
      "WIG20     55.803788\n",
      "EURUSD    55.220981\n",
      "dtype: object\n",
      "Average percentage of correctly predicted signs: 56.58\n",
      "Number of sign-convergent forecasts:\n",
      " SPX       1176\n",
      "DAX       1193\n",
      "WIG20     1151\n",
      "EURUSD    1134\n",
      "dtype: object\n",
      "Percentage of sign-convergent forecasts:\n",
      " SPX       57.115104\n",
      "DAX       57.940748\n",
      "WIG20     55.900923\n",
      "EURUSD    55.075279\n",
      "dtype: object\n",
      "Average percentage of correctly predicted signs: 56.51\n"
     ]
    }
   ],
   "source": [
    "columns_2 = ['SPX', 'DAX', 'WIG20', 'EURUSD']\n",
    "\n",
    "#check if forecast sign is convergent\n",
    "def check_sign_convergence(df):\n",
    "    check = data.copy()\n",
    "    for i in columns_2:\n",
    "        for j in range(len(data)):\n",
    "            if(np.sign(data[i].iloc[j])==np.sign(df[i].iloc[j])):\n",
    "                check[i].iloc[j] = True\n",
    "            else:\n",
    "                check[i].iloc[j] = False\n",
    "    print('Number of sign-convergent forecasts:\\n',np.sum(check))\n",
    "    print('Percentage of sign-convergent forecasts:\\n', np.sum(check)/len(data)*100)\n",
    "    print('Average percentage of correctly predicted signs:', round(np.mean(np.sum(check)/len(data)*100),2))\n",
    "\n",
    "check_sign_convergence(freq_data)\n",
    "check_sign_convergence(bay_data)\n",
    "\n",
    "#put errors into a dataframe\n",
    "signs_df = pd.DataFrame(index=['correctly predicted signs'], columns=columns_2)"
   ]
  },
  {
   "cell_type": "code",
   "execution_count": 71,
   "id": "9c710bb6-0a43-4911-bf9f-2749acace39d",
   "metadata": {},
   "outputs": [
    {
     "name": "stdout",
     "output_type": "stream",
     "text": [
      "Frequentist MAPE:\n"
     ]
    },
    {
     "data": {
      "text/html": [
       "<div>\n",
       "<style scoped>\n",
       "    .dataframe tbody tr th:only-of-type {\n",
       "        vertical-align: middle;\n",
       "    }\n",
       "\n",
       "    .dataframe tbody tr th {\n",
       "        vertical-align: top;\n",
       "    }\n",
       "\n",
       "    .dataframe thead th {\n",
       "        text-align: right;\n",
       "    }\n",
       "</style>\n",
       "<table border=\"1\" class=\"dataframe\">\n",
       "  <thead>\n",
       "    <tr style=\"text-align: right;\">\n",
       "      <th></th>\n",
       "      <th>SPX</th>\n",
       "      <th>DAX</th>\n",
       "      <th>WIG20</th>\n",
       "      <th>EURUSD</th>\n",
       "    </tr>\n",
       "  </thead>\n",
       "  <tbody>\n",
       "    <tr>\n",
       "      <th>frequentist</th>\n",
       "      <td>167.98</td>\n",
       "      <td>197.41</td>\n",
       "      <td>147.18</td>\n",
       "      <td>143.18</td>\n",
       "    </tr>\n",
       "    <tr>\n",
       "      <th>Bayesian</th>\n",
       "      <td>167.82</td>\n",
       "      <td>196.52</td>\n",
       "      <td>147.0</td>\n",
       "      <td>141.07</td>\n",
       "    </tr>\n",
       "  </tbody>\n",
       "</table>\n",
       "</div>"
      ],
      "text/plain": [
       "                SPX     DAX   WIG20  EURUSD\n",
       "frequentist  167.98  197.41  147.18  143.18\n",
       "Bayesian     167.82  196.52   147.0  141.07"
      ]
     },
     "execution_count": 71,
     "metadata": {},
     "output_type": "execute_result"
    }
   ],
   "source": [
    "#calculate MAPE\n",
    "def mean_absolute_percentage_error(y_true, y_pred):\n",
    "    return round(np.mean(np.abs((y_true - y_pred) / y_true))*100,2)\n",
    "\n",
    "#put errors into a dataframe\n",
    "mape_df = pd.DataFrame(index=['frequentist', 'Bayesian'], columns=columns_2)\n",
    "\n",
    "#drop rows where return was 0 to avoid dividing by 0\n",
    "data2 = data.copy()\n",
    "data2 = data2.drop(data2[data2['SPX']==0].index, axis=0)\n",
    "data2 = data2.drop(data2[data2['EURUSD']==0].index, axis=0)\n",
    "\n",
    "for i in columns_2:\n",
    "    mape_df[i].iloc[0] = mean_absolute_percentage_error(data2[i], freq_data[i])\n",
    "    mape_df[i].iloc[1] = mean_absolute_percentage_error(data2[i], bay_data[i])\n",
    "\n",
    "mape_df\n",
    "#print(mape_df.to_latex())"
   ]
  },
  {
   "cell_type": "code",
   "execution_count": 89,
   "id": "c1c90176-2429-46fd-8b13-1f143ebfbf19",
   "metadata": {},
   "outputs": [
    {
     "name": "stdout",
     "output_type": "stream",
     "text": [
      "            SPX       DAX     WIG20    EURUSD\n",
      "Date                                         \n",
      "2017-01-10  0.0  0.166845  0.716621 -0.253524\n",
      "                 SPX       DAX     WIG20  EURUSD\n",
      "Date                                            \n",
      "2013-07-30  0.037374  0.145069  0.370302     0.0\n",
      "2013-09-30 -0.604751 -0.777824 -1.285022     0.0\n",
      "2013-12-04 -0.130436 -0.901442 -0.405939     0.0\n",
      "2014-06-24 -0.645610  0.172818 -0.653208     0.0\n",
      "2014-08-04  0.716333 -0.609230  0.835558     0.0\n",
      "2014-10-23  1.222833  1.191623  0.194944     0.0\n",
      "2015-02-13  0.406645  0.399853  0.366251     0.0\n",
      "2019-09-05  1.292592  0.842509  0.197643     0.0\n",
      "2022-03-02  1.847098  0.682749  3.837448     0.0\n"
     ]
    }
   ],
   "source": [
    "#check where the forward fill in the data was made\n",
    "data3 = data.copy()\n",
    "print(data3[data3['SPX']==0])\n",
    "print(data3[data3['EURUSD']==0])"
   ]
  },
  {
   "cell_type": "code",
   "execution_count": null,
   "id": "8a623580-84c0-4c8c-a316-4cb2689ebdc1",
   "metadata": {},
   "outputs": [],
   "source": []
  }
 ],
 "metadata": {
  "kernelspec": {
   "display_name": "Python 3 (ipykernel)",
   "language": "python",
   "name": "python3"
  },
  "language_info": {
   "codemirror_mode": {
    "name": "ipython",
    "version": 3
   },
   "file_extension": ".py",
   "mimetype": "text/x-python",
   "name": "python",
   "nbconvert_exporter": "python",
   "pygments_lexer": "ipython3",
   "version": "3.9.7"
  }
 },
 "nbformat": 4,
 "nbformat_minor": 5
}
